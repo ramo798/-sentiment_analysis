{
 "cells": [
  {
   "cell_type": "code",
   "execution_count": 25,
   "metadata": {},
   "outputs": [],
   "source": [
    "import pandas as pd\n",
    "\n",
    "SEED = 42\n",
    "pd.set_option('display.max_rows', 500)\n",
    "\n",
    "wrime_df = pd.read_csv(\"wrime-ver2.tsv\", sep=\"\\t\")\n",
    "\n",
    "targets = (wrime_df['Avg. Readers_Joy'].values > 0).astype(int)\n",
    "user_ids = wrime_df[\"UserID\"].values\n",
    "sentences = wrime_df[\"Sentence\"].values\n"
   ]
  },
  {
   "cell_type": "code",
   "execution_count": 45,
   "metadata": {},
   "outputs": [
    {
     "name": "stdout",
     "output_type": "stream",
     "text": [
      "Index(['Sentence', 'UserID', 'Datetime', 'Train/Dev/Test', 'Writer_Joy',\n",
      "       'Writer_Sadness', 'Writer_Anticipation', 'Writer_Surprise',\n",
      "       'Writer_Anger', 'Writer_Fear', 'Writer_Disgust', 'Writer_Trust',\n",
      "       'Writer_Sentiment', 'Reader1_Joy', 'Reader1_Sadness',\n",
      "       'Reader1_Anticipation', 'Reader1_Surprise', 'Reader1_Anger',\n",
      "       'Reader1_Fear', 'Reader1_Disgust', 'Reader1_Trust', 'Reader1_Sentiment',\n",
      "       'Reader2_Joy', 'Reader2_Sadness', 'Reader2_Anticipation',\n",
      "       'Reader2_Surprise', 'Reader2_Anger', 'Reader2_Fear', 'Reader2_Disgust',\n",
      "       'Reader2_Trust', 'Reader2_Sentiment', 'Reader3_Joy', 'Reader3_Sadness',\n",
      "       'Reader3_Anticipation', 'Reader3_Surprise', 'Reader3_Anger',\n",
      "       'Reader3_Fear', 'Reader3_Disgust', 'Reader3_Trust', 'Reader3_Sentiment',\n",
      "       'Avg. Readers_Joy', 'Avg. Readers_Sadness', 'Avg. Readers_Anticipation',\n",
      "       'Avg. Readers_Surprise', 'Avg. Readers_Anger', 'Avg. Readers_Fear',\n",
      "       'Avg. Readers_Disgust', 'Avg. Readers_Trust', 'Avg. Readers_Sentiment'],\n",
      "      dtype='object')\n",
      "最近ずっと夜寝る時ねこちゃんと一緒に寝てるんですけど、一緒に寝るようになってからもう可愛さしかない。お前ずっと寂しかったんだな…夜寝る時も1人。日中も誰もいない。夜中寝る時居てあげるだけで満たされキャット感がまるで違う。まだ他人に対しては警戒心強いし陰キャだけど。 \n",
      "669    2\n",
      "Name: Reader1_Sentiment, dtype: int64\n",
      "     Writer_Joy  Writer_Sadness  Writer_Anticipation  Writer_Surprise  \\\n",
      "669           3               0                    0                0   \n",
      "\n",
      "     Writer_Anger  Writer_Fear  Writer_Disgust  Writer_Trust  Writer_Sentiment  \n",
      "669             0            0               0             2                 1  \n",
      "qqqqqqqqqqqqqqqqqqqqqqqqqqq\n",
      "     Reader1_Joy  Reader1_Sadness  Reader1_Anticipation  Reader1_Surprise  \\\n",
      "669            3                0                     0                 0   \n",
      "\n",
      "     Reader1_Anger  Reader1_Fear  Reader1_Disgust  Reader1_Trust  \\\n",
      "669              0             0                0              0   \n",
      "\n",
      "     Reader1_Sentiment  \n",
      "669                  2  \n",
      "qqqqqqqqqqqqqqqqqqqqqqqqqqq\n",
      "     Reader2_Joy  Reader2_Sadness  Reader2_Anticipation  Reader2_Surprise  \\\n",
      "669            3                0                     0                 2   \n",
      "\n",
      "     Reader2_Anger  Reader2_Fear  Reader2_Disgust  Reader2_Trust  \\\n",
      "669              0             0                0              3   \n",
      "\n",
      "     Reader2_Sentiment  \n",
      "669                  2  \n",
      "qqqqqqqqqqqqqqqqqqqqqqqqqqq\n",
      "     Reader3_Joy  Reader3_Sadness  Reader3_Anticipation  Reader3_Surprise  \\\n",
      "669            2                0                     1                 1   \n",
      "\n",
      "     Reader3_Anger  Reader3_Fear  Reader3_Disgust  Reader3_Trust  \\\n",
      "669              0             0                0              1   \n",
      "\n",
      "     Reader3_Sentiment  \n",
      "669                  2  \n"
     ]
    }
   ],
   "source": [
    "\n",
    "print(wrime_df.columns)\n",
    "\n",
    "print(wrime_df['Sentence'][669])\n",
    "print(wrime_df['Reader1_Sentiment'].loc[669:669])\n",
    "\n",
    "# print(\"'Writer_Joy','Writer_Sadness', 'Writer_Anticipation', 'Writer_Surprise','Writer_Anger', 'Writer_Fear', 'Writer_Disgust', 'Writer_Trust','Writer_Sentiment'\")\n",
    "print(wrime_df[['Writer_Joy', 'Writer_Sadness', 'Writer_Anticipation', 'Writer_Surprise',\n",
    "                'Writer_Anger', 'Writer_Fear', 'Writer_Disgust', 'Writer_Trust', 'Writer_Sentiment']].loc[669:669])\n",
    "print(\"qqqqqqqqqqqqqqqqqqqqqqqqqqq\")\n",
    "print(wrime_df[['Reader1_Joy', 'Reader1_Sadness',\n",
    "                'Reader1_Anticipation', 'Reader1_Surprise', 'Reader1_Anger',\n",
    "                'Reader1_Fear', 'Reader1_Disgust', 'Reader1_Trust', 'Reader1_Sentiment']].loc[669:669])\n",
    "print(\"qqqqqqqqqqqqqqqqqqqqqqqqqqq\")\n",
    "\n",
    "print(wrime_df[['Reader2_Joy', 'Reader2_Sadness', 'Reader2_Anticipation',\n",
    "                'Reader2_Surprise', 'Reader2_Anger', 'Reader2_Fear', 'Reader2_Disgust',\n",
    "                'Reader2_Trust', 'Reader2_Sentiment']].loc[669:669])\n",
    "print(\"qqqqqqqqqqqqqqqqqqqqqqqqqqq\")\n",
    "\n",
    "print(wrime_df[['Reader3_Joy', 'Reader3_Sadness',\n",
    "                'Reader3_Anticipation', 'Reader3_Surprise', 'Reader3_Anger',\n",
    "                'Reader3_Fear', 'Reader3_Disgust', 'Reader3_Trust', 'Reader3_Sentiment']].loc[669:669])\n"
   ]
  },
  {
   "cell_type": "code",
   "execution_count": null,
   "metadata": {},
   "outputs": [],
   "source": []
  }
 ],
 "metadata": {
  "interpreter": {
   "hash": "a25a516fefaaf5f1424c9b15aaf125e053c1330f87998ef4c4f476bb255ad958"
  },
  "kernelspec": {
   "display_name": "Python 3.7.7 64-bit",
   "language": "python",
   "name": "python3"
  },
  "language_info": {
   "codemirror_mode": {
    "name": "ipython",
    "version": 3
   },
   "file_extension": ".py",
   "mimetype": "text/x-python",
   "name": "python",
   "nbconvert_exporter": "python",
   "pygments_lexer": "ipython3",
   "version": "3.7.7"
  },
  "orig_nbformat": 4
 },
 "nbformat": 4,
 "nbformat_minor": 2
}
