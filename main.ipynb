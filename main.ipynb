{
 "cells": [
  {
   "cell_type": "code",
   "execution_count": 13,
   "metadata": {},
   "outputs": [],
   "source": [
    "import pandas as pd\n",
    "\n",
    "SEED = 42\n",
    "wrime_df = pd.read_csv(\"wrime-ver2.tsv\", sep=\"\\t\")\n",
    "\n",
    "targets = (wrime_df['Avg. Readers_Joy'].values > 0).astype(int)\n",
    "user_ids = wrime_df[\"UserID\"].values\n",
    "sentences = wrime_df[\"Sentence\"].values\n"
   ]
  },
  {
   "cell_type": "code",
   "execution_count": 14,
   "metadata": {},
   "outputs": [],
   "source": [
    "from sklearn.model_selection import train_test_split\n",
    "\n",
    "idx_lst = list(range(len(targets)))\n",
    "\n",
    "_train_idx, test_idx, _, _ = train_test_split(idx_lst, idx_lst, test_size=0.2, random_state=SEED, stratify=user_ids)\n",
    "train_idx, valid_idx, _, _ = train_test_split(_train_idx, _train_idx, test_size=0.2, random_state=SEED, stratify=user_ids[_train_idx])\n",
    "\n",
    "train_texts = sentences[train_idx]\n",
    "valid_texts = sentences[valid_idx]\n",
    "test_texts = sentences[test_idx]\n",
    "\n",
    "y_train = targets[train_idx]\n",
    "y_valid = targets[valid_idx]\n",
    "y_test = targets[test_idx]\n"
   ]
  },
  {
   "cell_type": "code",
   "execution_count": 15,
   "metadata": {},
   "outputs": [],
   "source": [
    "import MeCab\n",
    "\n",
    "\n",
    "class WakatiMecab():\n",
    "\n",
    "    def __init__(self):\n",
    "        self.m = MeCab.Tagger(\"-Ochasen\")\n",
    "\n",
    "    def __call__(self, text):\n",
    "        wakati = [w.split(\"\\t\") for w in self.m.parse(text).split(\"\\n\")[:-2]]\n",
    "        return wakati\n",
    "\n",
    "    def wakati(self, text):\n",
    "        wakati = self.__call__(text)\n",
    "        wakati = [w[0] for w in wakati]\n",
    "        return \" \".join(wakati)\n"
   ]
  },
  {
   "cell_type": "code",
   "execution_count": 16,
   "metadata": {},
   "outputs": [],
   "source": [
    "import tqdm\n",
    "from sklearn.feature_extraction.text import TfidfVectorizer\n",
    "\n",
    "wakati_mecab = WakatiMecab()\n",
    "\n",
    "train_corpus = [wakati_mecab.wakati(s) for s in train_texts]\n",
    "valid_corpus = [wakati_mecab.wakati(s) for s in valid_texts]\n",
    "test_corpus = [wakati_mecab.wakati(s) for s in test_texts]\n",
    "\n",
    "vectorizer = TfidfVectorizer()\n",
    "X_train = vectorizer.fit_transform(train_corpus)\n",
    "X_valid = vectorizer.transform(valid_corpus)\n",
    "X_test = vectorizer.transform(test_corpus)\n"
   ]
  },
  {
   "cell_type": "code",
   "execution_count": 17,
   "metadata": {},
   "outputs": [],
   "source": [
    "from sklearn.linear_model import LogisticRegression\n",
    "from sklearn.metrics import accuracy_score\n",
    "from sklearn.metrics import precision_score, recall_score, classification_report\n",
    "\n",
    "for c in [0.1, 0.3, 1.0, 3.0, 10.0]:\n",
    "    lr = LogisticRegression(C=c, random_state=SEED, n_jobs=-1)\n",
    "    lr.fit(X_train, y_train)\n",
    "    y_pred_valid = lr.predict(X_valid)\n",
    "    valid_acc = accuracy_score(y_valid, y_pred_valid)\n",
    "    # a = precision_score(y_valid, y_pred_valid)\n",
    "    # b = recall_score(y_valid, y_pred_valid)\n",
    "    \n",
    "    # c = classification_report(y_valid, y_pred_valid)\n",
    "    \n",
    "    # print(c)\n"
   ]
  },
  {
   "cell_type": "code",
   "execution_count": 22,
   "metadata": {},
   "outputs": [
    {
     "name": "stdout",
     "output_type": "stream",
     "text": [
      "ロジスティック回帰での結果\n",
      "              precision    recall  f1-score   support\n",
      "\n",
      "           0       0.81      0.89      0.85      3820\n",
      "           1       0.70      0.54      0.61      1780\n",
      "\n",
      "    accuracy                           0.78      5600\n",
      "   macro avg       0.75      0.72      0.73      5600\n",
      "weighted avg       0.77      0.78      0.77      5600\n",
      "\n",
      "Test Accuracy = 0.7952857142857143\n"
     ]
    }
   ],
   "source": [
    "\n",
    "# ロジスティック回帰での結果\n",
    "lr = LogisticRegression(C=3, random_state=SEED, n_jobs=-1)\n",
    "lr.fit(X_train, y_train)\n",
    "\n",
    "y_pred_test = lr.predict(X_test)\n",
    "test_acc = accuracy_score(y_test, y_pred_test)\n",
    "c = classification_report(y_valid, y_pred_valid)\n",
    "print(\"ロジスティック回帰での結果\")\n",
    "print(c)\n",
    "\n",
    "print(f\"Test Accuracy = {test_acc}\")\n"
   ]
  },
  {
   "cell_type": "code",
   "execution_count": 19,
   "metadata": {},
   "outputs": [
    {
     "name": "stdout",
     "output_type": "stream",
     "text": [
      "Test Accuracy = 0.7968571428571428\n",
      "線形SVCでの結果\n",
      "              precision    recall  f1-score   support\n",
      "\n",
      "           0       0.81      0.92      0.86      4871\n",
      "           1       0.75      0.50      0.60      2129\n",
      "\n",
      "    accuracy                           0.80      7000\n",
      "   macro avg       0.78      0.71      0.73      7000\n",
      "weighted avg       0.79      0.80      0.78      7000\n",
      "\n"
     ]
    }
   ],
   "source": [
    "from sklearn.svm import SVC\n",
    "# 線形SVMのインスタンスを生成\n",
    "model = SVC(kernel='linear', random_state=None)\n",
    "model.fit(X_train, y_train)\n",
    "\n",
    "y_pred_test = model.predict(X_test)\n",
    "test_acc = accuracy_score(y_test, y_pred_test)\n",
    "\n",
    "print(f\"Test Accuracy = {test_acc}\")\n",
    "c = classification_report(y_test, y_pred_test)\n",
    "print(\"線形SVCでの結果\")\n",
    "print(c)\n",
    "\n",
    "\n"
   ]
  },
  {
   "cell_type": "code",
   "execution_count": 20,
   "metadata": {},
   "outputs": [
    {
     "name": "stdout",
     "output_type": "stream",
     "text": [
      "score= 0.779\n",
      "Test Accuracy = 0.779\n",
      "ランダムフォレストでの結果\n",
      "              precision    recall  f1-score   support\n",
      "\n",
      "           0       0.78      0.96      0.86      4871\n",
      "           1       0.79      0.37      0.51      2129\n",
      "\n",
      "    accuracy                           0.78      7000\n",
      "   macro avg       0.78      0.67      0.68      7000\n",
      "weighted avg       0.78      0.78      0.75      7000\n",
      "\n"
     ]
    }
   ],
   "source": [
    "from sklearn.ensemble import RandomForestClassifier\n",
    "\n",
    "clf = RandomForestClassifier(random_state=1234)\n",
    "clf.fit(X_train, y_train)\n",
    "print(\"score=\", clf.score(X_test, y_test))\n",
    "\n",
    "y_pred_test = clf.predict(X_test)\n",
    "test_acc = accuracy_score(y_test, y_pred_test)\n",
    "\n",
    "print(f\"Test Accuracy = {test_acc}\")\n",
    "c = classification_report(y_test, y_pred_test)\n",
    "print(\"ランダムフォレストでの結果\")\n",
    "print(c)\n"
   ]
  },
  {
   "cell_type": "code",
   "execution_count": 21,
   "metadata": {},
   "outputs": [
    {
     "name": "stdout",
     "output_type": "stream",
     "text": [
      "Test Accuracy = 0.7082857142857143\n",
      "ｋでの結果\n",
      "              precision    recall  f1-score   support\n",
      "\n",
      "           0       0.72      0.96      0.82      4871\n",
      "           1       0.59      0.14      0.23      2129\n",
      "\n",
      "    accuracy                           0.71      7000\n",
      "   macro avg       0.65      0.55      0.52      7000\n",
      "weighted avg       0.68      0.71      0.64      7000\n",
      "\n"
     ]
    }
   ],
   "source": [
    "from sklearn.neighbors import KNeighborsClassifier\n",
    "clf = KNeighborsClassifier(n_neighbors=1)\n",
    "clf.fit(X_train, y_train)\n",
    "y_pred_test = clf.predict(X_test)\n",
    "test_acc = accuracy_score(y_test, y_pred_test)\n",
    "\n",
    "print(f\"Test Accuracy = {test_acc}\")\n",
    "c = classification_report(y_test, y_pred_test)\n",
    "print(\"ｋでの結果\")\n",
    "print(c)\n"
   ]
  },
  {
   "cell_type": "code",
   "execution_count": null,
   "metadata": {},
   "outputs": [],
   "source": []
  }
 ],
 "metadata": {
  "interpreter": {
   "hash": "a25a516fefaaf5f1424c9b15aaf125e053c1330f87998ef4c4f476bb255ad958"
  },
  "kernelspec": {
   "display_name": "Python 3.7.7 64-bit",
   "language": "python",
   "name": "python3"
  },
  "language_info": {
   "codemirror_mode": {
    "name": "ipython",
    "version": 3
   },
   "file_extension": ".py",
   "mimetype": "text/x-python",
   "name": "python",
   "nbconvert_exporter": "python",
   "pygments_lexer": "ipython3",
   "version": "3.7.7"
  },
  "orig_nbformat": 4
 },
 "nbformat": 4,
 "nbformat_minor": 2
}
